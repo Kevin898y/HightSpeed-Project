{
 "cells": [
  {
   "cell_type": "code",
   "execution_count": 1,
   "metadata": {},
   "outputs": [],
   "source": [
    "import numpy as np\n",
    "import json\n",
    "from os import listdir\n",
    "from os.path import join\n",
    "import pandas as pd"
   ]
  },
  {
   "cell_type": "code",
   "execution_count": 2,
   "metadata": {},
   "outputs": [],
   "source": [
    "user = pd.read_csv('Data/UserList.csv')\n",
    "product = pd.read_csv('Data/Product.csv')"
   ]
  },
  {
   "cell_type": "code",
   "execution_count": 3,
   "metadata": {},
   "outputs": [],
   "source": [
    "path = 'Data/SortData'\n",
    "file = listdir(path)"
   ]
  },
  {
   "cell_type": "code",
   "execution_count": 4,
   "metadata": {},
   "outputs": [],
   "source": [
    "file.sort()"
   ]
  },
  {
   "cell_type": "markdown",
   "metadata": {},
   "source": [
    "* B-PRO 商品名開始\n",
    "* I-PRO 中間的商品名\n",
    "\n",
    "* B-PER 人名開始\n",
    "* I-PER 中間的人名"
   ]
  },
  {
   "cell_type": "code",
   "execution_count": 6,
   "metadata": {},
   "outputs": [],
   "source": [
    "#用整理過的人名跟商品名標label\n",
    "label = []\n",
    "for i in file:\n",
    "    fullpath = join(path,i)\n",
    "    message = pd.read_csv(fullpath)\n",
    "    for text in message['text']:\n",
    "        try:\n",
    "            temp = ['O' for i in range(len(text))]\n",
    "        except:\n",
    "            continue\n",
    "        for p in product['product']:\n",
    "            index = text.find(p)\n",
    "            if index!=-1:\n",
    "                temp[index] ='B-PRO'\n",
    "                for i in range(index+1,index+len(p),1):\n",
    "                    temp[i] = 'I-PRO'\n",
    "        for name in user['user']:\n",
    "            index = text.find(name)\n",
    "            if index!=-1:\n",
    "                temp[index] = 'B-PER'\n",
    "                for i in range(index+1,index+len(name),1):\n",
    "                    temp[i] = 'I-PER'     \n",
    "        label.append(temp)"
   ]
  },
  {
   "cell_type": "code",
   "execution_count": 7,
   "metadata": {},
   "outputs": [],
   "source": [
    "#儲存label\n",
    "data = []\n",
    "for i in file:\n",
    "    fullpath = join(path,i)\n",
    "    message = pd.read_csv(fullpath)\n",
    "    for text in message['text']:\n",
    "        temp = []\n",
    "        if text == text:\n",
    "            for word in text:\n",
    "                temp.append(word)\n",
    "            data.append(temp)"
   ]
  },
  {
   "cell_type": "code",
   "execution_count": 8,
   "metadata": {},
   "outputs": [],
   "source": [
    "label = np.array(label)"
   ]
  },
  {
   "cell_type": "code",
   "execution_count": 9,
   "metadata": {},
   "outputs": [],
   "source": [
    "data = np.array(data)"
   ]
  },
  {
   "cell_type": "code",
   "execution_count": 10,
   "metadata": {},
   "outputs": [],
   "source": [
    "np.save('Data/label.npy',label)"
   ]
  },
  {
   "cell_type": "code",
   "execution_count": 11,
   "metadata": {},
   "outputs": [],
   "source": [
    "np.save('Data/data.npy',data)"
   ]
  }
 ],
 "metadata": {
  "kernelspec": {
   "display_name": "Python 3",
   "language": "python",
   "name": "python3"
  },
  "language_info": {
   "codemirror_mode": {
    "name": "ipython",
    "version": 3
   },
   "file_extension": ".py",
   "mimetype": "text/x-python",
   "name": "python",
   "nbconvert_exporter": "python",
   "pygments_lexer": "ipython3",
   "version": "3.6.7"
  }
 },
 "nbformat": 4,
 "nbformat_minor": 2
}
